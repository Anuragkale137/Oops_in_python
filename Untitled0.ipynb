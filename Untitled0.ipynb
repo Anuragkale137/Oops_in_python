{
  "nbformat": 4,
  "nbformat_minor": 0,
  "metadata": {
    "colab": {
      "provenance": []
    },
    "kernelspec": {
      "name": "python3",
      "display_name": "Python 3"
    },
    "language_info": {
      "name": "python"
    }
  },
  "cells": [
    {
      "cell_type": "code",
      "execution_count": 3,
      "metadata": {
        "id": "dko_HuSVmU3D"
      },
      "outputs": [],
      "source": [
        "#question no 1. What are the five key concepts of Object-Oriented Programming (OOP)?\n",
        "#answer--> 1.inheritance-refers to procces of child class  reciving the properties of parent class.\n",
        "#          2.pplymprphism-refers to an object taking several forms depending on the method or data.\n",
        "#          3.encapsulatioin-means hiding something is not neccesery,building of data and methods of a class.\n",
        "\n"
      ]
    },
    {
      "cell_type": "code",
      "source": [
        "#question no 2.2. Write a Python class for a `Car` with attributes for `make`, `model`, and `year`. Include a method to display\n",
        "#the car's information.\n",
        "class car:\n",
        "  def __init__(self,model,year):\n",
        "    #self.make=make\n",
        "    self.model=model\n",
        "    self.year=year\n",
        "class car_info(car):\n",
        "  def Display_info(self):\n",
        "    print(\"cars information :\",self.model,self.year)\n",
        "\n",
        "\n",
        "\n",
        "\n",
        "\n",
        "\n",
        "\n",
        "\n",
        "\n",
        "\n",
        "\n",
        "\n",
        "\n",
        "\n",
        "\n",
        "\n",
        "\n",
        "\n",
        "\n",
        "\n",
        "\n",
        "\n",
        "\n",
        "\n",
        "\n",
        "\n",
        "\n"
      ],
      "metadata": {
        "id": "WnoMzgGBm7Bp"
      },
      "execution_count": 26,
      "outputs": []
    },
    {
      "cell_type": "code",
      "source": [
        "car1=car_info(\"honda\",2008)\n",
        "car1.Display_info()"
      ],
      "metadata": {
        "colab": {
          "base_uri": "https://localhost:8080/"
        },
        "id": "7qFCHknSq6LL",
        "outputId": "7b40dac2-4bd4-4451-c6ee-3fc0ee79c319"
      },
      "execution_count": 27,
      "outputs": [
        {
          "output_type": "stream",
          "name": "stdout",
          "text": [
            "cars information : honda 2008\n"
          ]
        },
        {
          "output_type": "execute_result",
          "data": {
            "text/plain": [
              "0"
            ]
          },
          "metadata": {},
          "execution_count": 27
        }
      ]
    },
    {
      "cell_type": "code",
      "source": [
        "#question no 3. Explain the difference between instance methods and class methods. Provide an example of each.\n",
        "#answer-->instance method- instance method provide us the modification done in that instance only.\n",
        "#         class method- class method provides us the modification or access of class level attribute.or you can directly acees the class level attribute or methods\n",
        "#Instance method-->\n",
        "class student:\n",
        "  def __init__(self,name):\n",
        "    self.name=name\n",
        "  def Display_name(self):\n",
        "    print(\"student name :\",self.name)\n",
        "\n",
        "\n"
      ],
      "metadata": {
        "id": "Ad-RSs2LstDm"
      },
      "execution_count": 28,
      "outputs": []
    },
    {
      "cell_type": "code",
      "source": [
        "stud=student(\"Anurag\")\n",
        "stud.Display_name()"
      ],
      "metadata": {
        "colab": {
          "base_uri": "https://localhost:8080/"
        },
        "id": "d2TNB7tBuxU0",
        "outputId": "0415149d-125b-4fb5-9954-0c39023e30ba"
      },
      "execution_count": 29,
      "outputs": [
        {
          "output_type": "stream",
          "name": "stdout",
          "text": [
            "student name : Anurag\n"
          ]
        }
      ]
    },
    {
      "cell_type": "code",
      "source": [
        "#class method-->\n",
        "class student:\n",
        "  def __init__(self,name):\n",
        "    self.name=name\n",
        "  @classmethod\n",
        "  def student_name(cls,name):\n",
        "    return cls(name)"
      ],
      "metadata": {
        "id": "yQGytM1Wu7NE"
      },
      "execution_count": 43,
      "outputs": []
    },
    {
      "cell_type": "code",
      "source": [
        "obj=student.student_name(\"Anuarg\")\n",
        "obj.name"
      ],
      "metadata": {
        "colab": {
          "base_uri": "https://localhost:8080/",
          "height": 36
        },
        "id": "BeUFBNggvSBv",
        "outputId": "56f1c473-0787-4919-f949-af4feb44a4e5"
      },
      "execution_count": 45,
      "outputs": [
        {
          "output_type": "execute_result",
          "data": {
            "text/plain": [
              "'Anuarg'"
            ],
            "application/vnd.google.colaboratory.intrinsic+json": {
              "type": "string"
            }
          },
          "metadata": {},
          "execution_count": 45
        }
      ]
    },
    {
      "cell_type": "code",
      "source": [
        "#question no 4. How does Python implement method overloading? Give an example.\n",
        "class _student:\n",
        "  def student(self):\n",
        "    print(\"welcome to python\")\n",
        "  def student(self,name=\"\"):\n",
        "    print(\"wlcome to python\",name)\n",
        "  def student(self,name=\"\",age=\"\"):\n",
        "    print(\"welcome to python\",name,age)\n",
        "\n",
        "\n",
        "\n"
      ],
      "metadata": {
        "id": "Fv6bJ5jJvatT"
      },
      "execution_count": 46,
      "outputs": []
    },
    {
      "cell_type": "code",
      "source": [
        "stud=_student()\n",
        "stud.student(\"anurag\",\"20\")\n"
      ],
      "metadata": {
        "colab": {
          "base_uri": "https://localhost:8080/"
        },
        "id": "oto6oJdtyLjf",
        "outputId": "34d28d6d-c528-4f90-8d1e-15122fcf06e9"
      },
      "execution_count": 54,
      "outputs": [
        {
          "output_type": "stream",
          "name": "stdout",
          "text": [
            "welcome to python anurag 20\n"
          ]
        }
      ]
    },
    {
      "cell_type": "code",
      "source": [
        "#question no 5. What are the three types of access modifiers in Python? How are they denoted?\n",
        "#answer--> there are mainly 3 acces modifiers in python\n",
        "#1.public-accessable inside or outside the class\n",
        "#2.private-the data and method accessable only in the class and it is denoted as '__variable_name'\n",
        "#3.protected-the data and methods are accessable within the class and its subclass and protected members are accesable by '_'\n"
      ],
      "metadata": {
        "id": "TF_kLZZPyPxT"
      },
      "execution_count": 55,
      "outputs": []
    },
    {
      "cell_type": "code",
      "source": [
        "#question no 6. Describe the five types of inheritance in Python. Provide a simple example of multiple inheritance\n",
        "#answer-->there are 5 types of inheritance\n",
        "#1.single inheritance-when derived class has only one parent class\n",
        "#2.multilevel inheritance-one parent class has multiple child claases\n",
        "#3.multiple inheritance-one child class may inheritance the property of mutiple parent class\n",
        "#4.hybrid inheritance-multiple types or combinations of different inheritance\n",
        "#example of multiple inheritance\n",
        "class parentclass1:\n",
        "  def method1(self):\n",
        "    print(\"property of parent1\")\n",
        "class parentclass2:\n",
        "  def method2(self):\n",
        "    print(\"property of parent 2\")\n",
        "class childclass(parentclass1,parentclass2):\n",
        "  def method(self):\n",
        "    print(\"property of child\")\n"
      ],
      "metadata": {
        "id": "lQOrqWcb0dKh"
      },
      "execution_count": 58,
      "outputs": []
    },
    {
      "cell_type": "code",
      "source": [
        "child1=childclass()\n",
        "child1.method1()\n",
        "child1.method2()\n",
        "child1.method()"
      ],
      "metadata": {
        "colab": {
          "base_uri": "https://localhost:8080/"
        },
        "id": "gPkU6ypA2kQE",
        "outputId": "a600f2b6-bf79-43f4-a1c5-68e8d382d643"
      },
      "execution_count": 61,
      "outputs": [
        {
          "output_type": "stream",
          "name": "stdout",
          "text": [
            "property of parent1\n",
            "property of parent 2\n",
            "property of child\n"
          ]
        }
      ]
    },
    {
      "cell_type": "code",
      "source": [
        "#question no 7. What is the Method Resolution Order (MRO) in Python? How can you retrieve it programmatically?\n",
        "#answer-->The Method Resolution Order (MRO) in Python refers to the order in which base classes are searched when looking for a method or attribute. This order is especially relevant in multiple inheritance scenarios where a class inherits from more than one base class. Python uses the C3 linearization algorithm to determine the MRO, which ensures a consistent and predictable order of base classes.\n",
        "#           we can retrive the mro programmatically as print(method_name.mro())"
      ],
      "metadata": {
        "id": "5IO577jl2-Ts"
      },
      "execution_count": 62,
      "outputs": []
    },
    {
      "cell_type": "code",
      "source": [
        "#question no 8. Create an abstract base class `Shape` with an abstract method `area()`. Then create two subclasses\n",
        "#`Circle` and `Rectangle` that implement the `area()` method.\n",
        "class shape:\n",
        "  def area(self):\n",
        "    pass\n",
        "class circle(shape):\n",
        "  def area(self,radius):\n",
        "    return 3.14*radius**2\n",
        "class rectangle(shape):\n",
        "  def area(self,lenght,width):\n",
        "    return lenght*width"
      ],
      "metadata": {
        "id": "oL2Pzyn74VlQ"
      },
      "execution_count": 64,
      "outputs": []
    },
    {
      "cell_type": "code",
      "source": [
        "c1=circle()\n",
        "c1.area(5)\n"
      ],
      "metadata": {
        "colab": {
          "base_uri": "https://localhost:8080/"
        },
        "id": "CniY66BO5rpu",
        "outputId": "82664a1a-cd9a-4849-de13-b7aeb4ab1bc3"
      },
      "execution_count": 66,
      "outputs": [
        {
          "output_type": "execute_result",
          "data": {
            "text/plain": [
              "78.5"
            ]
          },
          "metadata": {},
          "execution_count": 66
        }
      ]
    },
    {
      "cell_type": "code",
      "source": [
        "r1=rectangle()\n",
        "r1.area(5,6)"
      ],
      "metadata": {
        "colab": {
          "base_uri": "https://localhost:8080/"
        },
        "id": "VBSZ_a2f5-Fk",
        "outputId": "e0050c7a-18cf-4133-927b-f411e1cb2ade"
      },
      "execution_count": 67,
      "outputs": [
        {
          "output_type": "execute_result",
          "data": {
            "text/plain": [
              "30"
            ]
          },
          "metadata": {},
          "execution_count": 67
        }
      ]
    },
    {
      "cell_type": "code",
      "source": [
        "#question no 9. Demonstrate polymorphism by creating a function that can work with different shape objects to calculate\n",
        "#and print their areas.\n",
        "#answer-->\n",
        "class shape:\n",
        "      def area(self):\n",
        "        pass\n",
        "class circle(shape):\n",
        "  def area(self,radius):\n",
        "    return 3.14*radius**2\n",
        "class rectangle(shape):\n",
        "  def area(self,lenght,width):\n",
        "    return lenght*width"
      ],
      "metadata": {
        "id": "ofs6D1U16E0k"
      },
      "execution_count": 68,
      "outputs": []
    },
    {
      "cell_type": "code",
      "source": [
        "c1=circle()\n",
        "c1.area(10)"
      ],
      "metadata": {
        "id": "s_5H5BFCJJLl",
        "outputId": "813f7578-4047-40c5-f92f-3f207c167db4",
        "colab": {
          "base_uri": "https://localhost:8080/"
        }
      },
      "execution_count": 69,
      "outputs": [
        {
          "output_type": "execute_result",
          "data": {
            "text/plain": [
              "314.0"
            ]
          },
          "metadata": {},
          "execution_count": 69
        }
      ]
    },
    {
      "cell_type": "code",
      "source": [
        "r1=rectangle()\n",
        "r1.area(10,20)"
      ],
      "metadata": {
        "id": "wZdiJ5KtJOAU",
        "outputId": "547a9e69-0745-48a0-e154-3a6d931025d9",
        "colab": {
          "base_uri": "https://localhost:8080/"
        }
      },
      "execution_count": 70,
      "outputs": [
        {
          "output_type": "execute_result",
          "data": {
            "text/plain": [
              "200"
            ]
          },
          "metadata": {},
          "execution_count": 70
        }
      ]
    },
    {
      "cell_type": "code",
      "source": [
        "#question no 10. Implement encapsulation in a `BankAccount` class with private attributes for `balance` and\n",
        "#`account_number`. Include methods for deposit, withdrawal, and balance inquiry.\n",
        "#answer-->\n",
        "class bank_account:\n",
        "  def __init__(self,balance,account_number):\n",
        "    self.__balance=balance\n",
        "    self.__account_number=account_number\n",
        "  def deposite(self,amount):\n",
        "      self.__balance=self.__balance+amount\n",
        "  def withdrawal(self,amount):\n",
        "    if self.__balance>=amount:\n",
        "      self.__balance=self.__balance-amount\n",
        "      return True\n",
        "    else:\n",
        "      return False\n",
        "  def get_balance(self):\n",
        "    return self.__balance\n"
      ],
      "metadata": {
        "id": "U3jIeo9rJT_9"
      },
      "execution_count": 73,
      "outputs": []
    },
    {
      "cell_type": "code",
      "source": [
        "bal=bank_account(1000,234345643)\n",
        "bal.deposite(1000)\n",
        "bal.get_balance()"
      ],
      "metadata": {
        "id": "kaYbpEMMLEwm",
        "outputId": "44148489-3b64-47e1-df63-6c93f459c9c9",
        "colab": {
          "base_uri": "https://localhost:8080/"
        }
      },
      "execution_count": 76,
      "outputs": [
        {
          "output_type": "execute_result",
          "data": {
            "text/plain": [
              "2000"
            ]
          },
          "metadata": {},
          "execution_count": 76
        }
      ]
    },
    {
      "cell_type": "code",
      "source": [
        "bal.withdrawal(673)\n",
        "bal.get_balance()"
      ],
      "metadata": {
        "id": "sSgy7q5WLwtc",
        "outputId": "830de291-a706-4942-c052-8ec6699b0cb0",
        "colab": {
          "base_uri": "https://localhost:8080/"
        }
      },
      "execution_count": 78,
      "outputs": [
        {
          "output_type": "execute_result",
          "data": {
            "text/plain": [
              "654"
            ]
          },
          "metadata": {},
          "execution_count": 78
        }
      ]
    },
    {
      "cell_type": "code",
      "source": [
        "#question no 11. Write a class that overrides the `__str__` and `__add__` magic methods. What will these methods allow\n",
        "#you to do?\n",
        "#answer-->\n",
        "class student:\n",
        "  def __init__(self,name,age):\n",
        "    self.name=name\n",
        "    self.age=age\n",
        "  def __str__(self):\n",
        "    return f\"{self.name} is {self.age} yeras old\"\n",
        "\n",
        "  def add(self,other):\n",
        "    return self.age+other.age"
      ],
      "metadata": {
        "id": "0vRc5kCmMY-n"
      },
      "execution_count": 84,
      "outputs": []
    },
    {
      "cell_type": "code",
      "source": [
        "stud=student(\"anurag\",20)\n",
        "print(stud)"
      ],
      "metadata": {
        "id": "esbfkvzCNvhv",
        "outputId": "53fc9311-fe41-454b-bc4f-df49696844e2",
        "colab": {
          "base_uri": "https://localhost:8080/"
        }
      },
      "execution_count": 80,
      "outputs": [
        {
          "output_type": "stream",
          "name": "stdout",
          "text": [
            "anurag is 20 yeras old\n"
          ]
        }
      ]
    },
    {
      "cell_type": "code",
      "source": [
        "stud1=student(\"ram\",21)\n",
        "stud1.add(stud)"
      ],
      "metadata": {
        "id": "aqS1k4fiN6FN",
        "outputId": "28319a03-cd51-4834-852e-1c6d20589e96",
        "colab": {
          "base_uri": "https://localhost:8080/"
        }
      },
      "execution_count": 85,
      "outputs": [
        {
          "output_type": "execute_result",
          "data": {
            "text/plain": [
              "41"
            ]
          },
          "metadata": {},
          "execution_count": 85
        }
      ]
    },
    {
      "cell_type": "code",
      "source": [
        "#question no 12. Create a decorator that measures and prints the execution time of a function\n",
        "#answer-->\n",
        "import time\n",
        "def measure_time(func):\n",
        "  def timer(*args,**kwargs):\n",
        "    start_time=time.time()\n",
        "    result=func(*args,**kwargs)\n",
        "    end_time=time.time()\n",
        "    execution_time=end_time-start_time\n",
        "    print(f\"execution time of {func.__name__} is {execution_time} seconds\")\n",
        "    return result\n",
        "\n",
        "  return timer\n",
        "\n",
        "\n",
        ""
      ],
      "metadata": {
        "id": "B_sAIX1kOWZ0"
      },
      "execution_count": 105,
      "outputs": []
    },
    {
      "cell_type": "code",
      "source": [
        "@measure_time\n",
        "def my_function():\n",
        "  pass\n",
        "  my_function()"
      ],
      "metadata": {
        "id": "Yq4u-jgGQPdA"
      },
      "execution_count": 106,
      "outputs": []
    },
    {
      "cell_type": "code",
      "source": [
        "#example 2-->\n",
        "import time\n",
        "def timer_decorator(func):\n",
        "  def timer():\n",
        "    start=time.time()\n",
        "    func()\n",
        "    end=time.time()\n",
        "    print(\"the time for executing a codee :\",end-start)\n",
        "    return timer\n",
        "  return timer"
      ],
      "metadata": {
        "collapsed": true,
        "id": "PSDcBkqDQq9W"
      },
      "execution_count": 114,
      "outputs": []
    },
    {
      "cell_type": "code",
      "source": [
        "@timer_decorator\n",
        "def my_function():\n",
        "  print(11*11)"
      ],
      "metadata": {
        "id": "1ODVGQ1sQ5PO"
      },
      "execution_count": 115,
      "outputs": []
    },
    {
      "cell_type": "code",
      "source": [
        "my_function()"
      ],
      "metadata": {
        "id": "MQTdNtBxTFh3",
        "outputId": "fbbba3de-36ca-46f1-e9e8-8039bab0221e",
        "colab": {
          "base_uri": "https://localhost:8080/",
          "height": 138
        }
      },
      "execution_count": 116,
      "outputs": [
        {
          "output_type": "stream",
          "name": "stdout",
          "text": [
            "121\n",
            "the time for executing a codee : 6.341934204101562e-05\n"
          ]
        },
        {
          "output_type": "execute_result",
          "data": {
            "text/plain": [
              "<function __main__.timer_decorator.<locals>.timer()>"
            ],
            "text/html": [
              "<div style=\"max-width:800px; border: 1px solid var(--colab-border-color);\"><style>\n",
              "      pre.function-repr-contents {\n",
              "        overflow-x: auto;\n",
              "        padding: 8px 12px;\n",
              "        max-height: 500px;\n",
              "      }\n",
              "\n",
              "      pre.function-repr-contents.function-repr-contents-collapsed {\n",
              "        cursor: pointer;\n",
              "        max-height: 100px;\n",
              "      }\n",
              "    </style>\n",
              "    <pre style=\"white-space: initial; background:\n",
              "         var(--colab-secondary-surface-color); padding: 8px 12px;\n",
              "         border-bottom: 1px solid var(--colab-border-color);\"><b>timer_decorator.&lt;locals&gt;.timer</b><br/>def timer()</pre><pre class=\"function-repr-contents function-repr-contents-collapsed\" style=\"\"><a class=\"filepath\" style=\"display:none\" href=\"#\">/content/&lt;ipython-input-114-99a9badd2de6&gt;</a>&lt;no docstring&gt;</pre></div>"
            ]
          },
          "metadata": {},
          "execution_count": 116
        }
      ]
    },
    {
      "cell_type": "code",
      "source": [
        "#question no 13. Explain the concept of the Diamond Problem in multiple inheritance. How does Python resolve it?\n",
        "#answer-->it occurs when a child class inherits from 2 or more than 2 classes solution is the python uses method resolution order(MRO) algorithm c3 linerization\n",
        "#meaning that the class is inherits first in the derived class that method will be executed\n"
      ],
      "metadata": {
        "id": "KKuJUugFTTzW"
      },
      "execution_count": 117,
      "outputs": []
    },
    {
      "cell_type": "code",
      "source": [
        "#question no 14. Write a class method that keeps track of the number of instances created from a class.\n",
        "\n",
        "\n",
        "\n"
      ],
      "metadata": {
        "id": "dUFF0fmQUq5D"
      },
      "execution_count": 149,
      "outputs": []
    },
    {
      "cell_type": "code",
      "source": [],
      "metadata": {
        "id": "IbKwYZ0PZaLQ"
      },
      "execution_count": 149,
      "outputs": []
    },
    {
      "cell_type": "code",
      "source": [],
      "metadata": {
        "id": "gcjjy6gxaD7R"
      },
      "execution_count": 149,
      "outputs": []
    },
    {
      "cell_type": "code",
      "source": [
        "class Something:\n",
        "    id=0\n",
        "    def __init__(self):\n",
        "        Something.id+=1\n",
        "        self.id = Something.id\n",
        "\n",
        "something1=Something()\n",
        "something2=Something()\n",
        "\n",
        "print(something1.id, something2.id)"
      ],
      "metadata": {
        "id": "AGBWL_zdcIDZ",
        "outputId": "2cc7bed6-29af-44eb-9688-8c3afdbe017f",
        "colab": {
          "base_uri": "https://localhost:8080/"
        }
      },
      "execution_count": 148,
      "outputs": [
        {
          "output_type": "stream",
          "name": "stdout",
          "text": [
            "1 2\n"
          ]
        }
      ]
    },
    {
      "cell_type": "code",
      "source": [
        "#question no 15. Implement a static method in a class that checks if a given year is a leap year\n",
        "#answer-->\n",
        "class year:\n",
        "  def __init__(self,year):\n",
        "    self.year=year\n",
        "  @staticmethod\n",
        "  def is_leap_year(year):\n",
        "    if(year%4==0 and year%100!=0) or year%400==0:\n",
        "      return \"It is a leap year\"\n",
        "    else:\n",
        "      return \"It is not a leap year\"\n"
      ],
      "metadata": {
        "id": "U52BdJmxeVgW"
      },
      "execution_count": 155,
      "outputs": []
    },
    {
      "cell_type": "code",
      "source": [
        "year1=year(2000)\n",
        "year1.is_leap_year(2000)"
      ],
      "metadata": {
        "id": "qi7OVvpFfYla",
        "outputId": "a237d223-06de-44e9-bbae-5c1cdda00934",
        "colab": {
          "base_uri": "https://localhost:8080/",
          "height": 36
        }
      },
      "execution_count": 156,
      "outputs": [
        {
          "output_type": "execute_result",
          "data": {
            "text/plain": [
              "'It is a leap year'"
            ],
            "application/vnd.google.colaboratory.intrinsic+json": {
              "type": "string"
            }
          },
          "metadata": {},
          "execution_count": 156
        }
      ]
    },
    {
      "cell_type": "code",
      "source": [],
      "metadata": {
        "id": "WtN9IC2wfjzp"
      },
      "execution_count": null,
      "outputs": []
    }
  ]
}